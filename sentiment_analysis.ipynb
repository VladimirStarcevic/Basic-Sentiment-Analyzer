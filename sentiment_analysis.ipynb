{
 "cells": [
  {
   "cell_type": "code",
   "execution_count": 12,
   "id": "ba3bc883-5543-480d-a686-159c01ce8b10",
   "metadata": {},
   "outputs": [],
   "source": [
    "from src.sentiment_utils import *"
   ]
  },
  {
   "cell_type": "code",
   "execution_count": 2,
   "id": "8233ddba-cacd-4836-9fe2-8add7d0955b8",
   "metadata": {},
   "outputs": [
    {
     "name": "stdout",
     "output_type": "stream",
     "text": [
      "[['tweet_text', 'retweet_count', 'reply_count'], ['@twitteruser: On now - @Fusion scores first points #FirstFinals @overwatchleague @umich @umsi Michigan Athletics made out of emojis. #GoBlue', '3', '0'], ['BUNCH of things about crisis respons… available July 8th… scholarship focuses on improving me… in North America! A s… and frigid temperatures', '1', '0'], ['FREE ice cream with these local area deals: chance to pitch yourself to hundreds of employers? Msi student Name Here is spending her summer', '1', '2'], ['AWAY from the Internet of Things attacks… right and the left? See… use DIY language to discuss other projects not traditionally viewed as masculine', '3', '1']]\n"
     ]
    }
   ],
   "source": [
    "print(all_data[:5])"
   ]
  },
  {
   "cell_type": "code",
   "execution_count": 3,
   "id": "f2f68467-6412-4039-a9f8-1c8afbba77e1",
   "metadata": {},
   "outputs": [
    {
     "name": "stdout",
     "output_type": "stream",
     "text": [
      "[['YOU’RE welcome! He was a mix of many breeds. He is a 2 year old Yellow Lab. When he was a mix of breeds but has the bark of a road!!', '0', '2'], ['Name. He is wild and playful. He likes to chase and play with his stuffed elephant! the Dir. Of Human Resources @twitteruser. He is a', '0', '0'], ['BORDER Terrier puppy. Name is loving and very protective of the people she loves. Name2 is a 3 year old Maltipoo. Name3 is an 8 year old Corgi.', '4', '6'], [\"REASON they did not rain but they will reign beautifully couldn't asked for a crime 80 years in the Spring Name's Last Love absolutely love\", '19', '0'], [\"HOME surrounded by snow in my Garden. But City Name people musn't: such a good book: RT @twitteruser The Literature of Conflicted Lands after a\", '0', '0']]\n"
     ]
    }
   ],
   "source": [
    "print(all_data[-5:])"
   ]
  },
  {
   "cell_type": "code",
   "execution_count": 4,
   "id": "d9ef4212-8618-4225-b0b2-9425034aa484",
   "metadata": {},
   "outputs": [
    {
     "name": "stdout",
     "output_type": "stream",
     "text": [
      "20\n"
     ]
    }
   ],
   "source": [
    "print(len(all_data))"
   ]
  },
  {
   "cell_type": "code",
   "execution_count": 6,
   "id": "f8f4a1fc-6c0a-43eb-81dc-2fe106aecd4b",
   "metadata": {},
   "outputs": [
    {
     "name": "stdout",
     "output_type": "stream",
     "text": [
      "Original: 'Hello, @World!'\n",
      "Cleaned: 'Hello World'\n"
     ]
    }
   ],
   "source": [
    "punctuation_chars = [\"'\", '\"', \",\", \".\", \"!\", \":\", \";\", '#', '@']\n",
    "\n",
    "def strip_punctuation(word: str) -> str:\n",
    "\n",
    "    clean_word = word\n",
    "\n",
    "    for punc in punctuation_chars:\n",
    "        clean_word = clean_word.replace(punc, \"\")\n",
    "    return clean_word\n",
    "\n",
    "\n",
    "test_word = \"Hello, @World!\"\n",
    "cleaned = strip_punctuation(test_word)\n",
    "print(f\"Original: '{test_word}'\")\n",
    "print(f\"Cleaned: '{cleaned}'\")"
   ]
  },
  {
   "cell_type": "code",
   "execution_count": 11,
   "id": "f32aaa3b-d1b7-4d13-89fc-b5610284d2f7",
   "metadata": {},
   "outputs": [],
   "source": [
    "import os\n",
    "punctuation_chars = [\"'\", '\"', \",\", \".\", \"!\", \":\", \";\", '#', '@']\n",
    "\n",
    "def strip_punctuation(word: str) -> str:\n",
    "    clean_word = word\n",
    "\n",
    "    for punc in punctuation_chars:\n",
    "        clean_word = clean_word.replace(punc, \"\")\n",
    "    return clean_word\n",
    "\n",
    "\n",
    "def get_pos(sentence_text: str) -> int:\n",
    "\n",
    "    count_positive =  0\n",
    "    words_in_sentence = sentence_text.lower().split()\n",
    "    for word in words_in_sentence:\n",
    "        clean_word = strip_punctuation(word)\n",
    "        if clean_word in positive_words:\n",
    "            count_positive += 1\n",
    "    return count_positive\n",
    "\n",
    "\n",
    "data = \"data\"\n",
    "file_name = \"positive_words.txt\"\n",
    "file_path = os.path.join(data, file_name)\n",
    "\n",
    "positive_words = []\n",
    "\n",
    "try:\n",
    "\n",
    "    with open(file_path, \"r\", encoding='UTF-8') as file_in:\n",
    "        for line in file_in:\n",
    "            if line.strip() and not line.startswith(';'):\n",
    "                positive_words.append(line.strip())\n",
    "\n",
    "\n",
    "except FileNotFoundError:\n",
    "    print(f\"ERROR: File not found.\")\n",
    "except Exception as e:\n",
    "    print(f\"An unexpected error occurred: {e}\")"
   ]
  },
  {
   "cell_type": "code",
   "execution_count": null,
   "id": "916b0933-3f75-4eec-9426-82e689e8be83",
   "metadata": {},
   "outputs": [],
   "source": []
  }
 ],
 "metadata": {
  "kernelspec": {
   "display_name": "Python 3 (ipykernel)",
   "language": "python",
   "name": "python3"
  },
  "language_info": {
   "codemirror_mode": {
    "name": "ipython",
    "version": 3
   },
   "file_extension": ".py",
   "mimetype": "text/x-python",
   "name": "python",
   "nbconvert_exporter": "python",
   "pygments_lexer": "ipython3",
   "version": "3.11.13"
  }
 },
 "nbformat": 4,
 "nbformat_minor": 5
}
